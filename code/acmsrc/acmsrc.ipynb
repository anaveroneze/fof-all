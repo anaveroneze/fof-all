{
  "cells": [
    {
      "cell_type": "markdown",
      "metadata": {
        "colab_type": "text",
        "id": "view-in-github"
      },
      "source": [
        "<a href=\"https://colab.research.google.com/github/anaveroneze/acmsrc/blob/master/acmsrc.ipynb\" target=\"_parent\"><img src=\"https://colab.research.google.com/assets/colab-badge.svg\" alt=\"Open In Colab\"/></a>"
      ]
    },
    {
      "cell_type": "markdown",
      "metadata": {
        "colab_type": "text",
        "id": "ZvJCQ7P_L5Wh"
      },
      "source": [
        "Download and install the [PGI Community Compiler](https://www.pgroup.com/products/community.htm)"
      ]
    },
    {
      "cell_type": "code",
      "execution_count": null,
      "metadata": {
        "colab": {},
        "colab_type": "code",
        "id": "InXCMgEh0vpw"
      },
      "outputs": [],
      "source": [
        "!pwd\n",
        "!ls\n",
        "!wget http://www-usr.inf.ufsm.br/~alsolorzano/pgilinux-2019-194-x86-64.tar.gz\n",
        "!tar -xzvf pgilinux-2019-194-x86-64.tar.gz\n",
        "!./install"
      ]
    },
    {
      "cell_type": "markdown",
      "metadata": {
        "colab_type": "text",
        "id": "eJ9v9C7xMAgR"
      },
      "source": [
        "Get the source code and the input files\n",
        "\n",
        "Information about the algorithm in: https://github.com/anaveroneze/acmsrc"
      ]
    },
    {
      "cell_type": "code",
      "execution_count": null,
      "metadata": {
        "colab": {},
        "colab_type": "code",
        "id": "ogorOyEhGhT_"
      },
      "outputs": [],
      "source": [
        "!git clone https://github.com/anaveroneze/acmsrc.git\n",
        "%cd acmsrc\n",
        "!wget http://www-usr.inf.ufsm.br/~alsolorzano/Virgo"
      ]
    },
    {
      "cell_type": "markdown",
      "metadata": {
        "colab_type": "text",
        "id": "gxXfNm69MOxw"
      },
      "source": [
        "**Compile and run!**"
      ]
    },
    {
      "cell_type": "code",
      "execution_count": 41,
      "metadata": {
        "colab": {
          "base_uri": "https://localhost:8080/",
          "height": 425
        },
        "colab_type": "code",
        "id": "PgH5lLUMROjK",
        "outputId": "e94a8e1e-22e9-401c-e071-ab43bc641f9f"
      },
      "outputs": [
        {
          "name": "stdout",
          "output_type": "stream",
          "text": [
            "main.c:\n",
            "fofaccomp.c:\n",
            "FriendsAcc:\n",
            "     17, Generating acc routine seq\n",
            "         Generating Tesla code\n",
            "     23, FMA (fused multiply-add) instruction(s) generated\n",
            "fof:\n",
            "    149, Generating implicit copy(numgrupos)\n",
            "         Generating copy(x_bloco[:b][:elem],y_bloco[:b][:elem],z_bloco[:b][:elem])\n",
            "         Generating Tesla code\n",
            "        150, #pragma acc loop gang, vector(128) /* blockIdx.x threadIdx.x */\n",
            "             Generating reduction(+:numgrupos)\n",
            "    149, Generating copy(igru[:b][:elem])\n",
            "Iniciando...\n",
            "\n",
            "\n",
            "Tempo Leitura: 100291\n",
            "Grupos encontrados: 46220\n",
            "\n",
            "Pós-processamento...\n",
            "Número de grupos pós processamento: 45969\n",
            "\n",
            "Tempo FoF: 12262687\n",
            "--------------------\n"
          ]
        }
      ],
      "source": [
        "! /opt/pgi/linux86-64-llvm/19.4/bin/pgcc main.c fofaccomp.c -o fofomp -ta=nvidia:nvidia -Minfo\n",
        "! ./fofomp Virgo 0.1 10"
      ]
    },
    {
      "cell_type": "markdown",
      "metadata": {
        "colab_type": "text",
        "id": "ZkPirC1vLzEa"
      },
      "source": [
        "Extra tips:\n",
        "\n",
        "\n",
        "*   Get information about the devices: GPU and CPU\n",
        "*   Use of nvprof\n",
        "\n"
      ]
    },
    {
      "cell_type": "code",
      "execution_count": null,
      "metadata": {
        "colab": {},
        "colab_type": "code",
        "id": "5pxZRpzkASeL"
      },
      "outputs": [],
      "source": [
        "! nvidia-smi\n",
        "! lsb_release -a\n",
        "! nvprof --print-gpu-trace ./fofomp Virgo 0.1 10"
      ]
    }
  ],
  "metadata": {
    "accelerator": "GPU",
    "colab": {
      "collapsed_sections": [],
      "include_colab_link": true,
      "name": "acmsrc.ipynb",
      "provenance": [],
      "version": "0.3.2"
    },
    "kernelspec": {
      "display_name": "Python 3.8.10 64-bit",
      "language": "python",
      "name": "python3"
    },
    "language_info": {
      "codemirror_mode": {
        "name": "ipython",
        "version": 3
      },
      "file_extension": ".py",
      "mimetype": "text/x-python",
      "name": "python",
      "nbconvert_exporter": "python",
      "pygments_lexer": "ipython3",
      "version": "3.8.10"
    },
    "vscode": {
      "interpreter": {
        "hash": "e7370f93d1d0cde622a1f8e1c04877d8463912d04d973331ad4851f04de6915a"
      }
    }
  },
  "nbformat": 4,
  "nbformat_minor": 0
}
