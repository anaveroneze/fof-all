{
  "nbformat": 4,
  "nbformat_minor": 0,
  "metadata": {
    "colab": {
      "name": "acmsrc.ipynb",
      "version": "0.3.2",
      "provenance": [],
      "collapsed_sections": [],
      "include_colab_link": true
    },
    "kernelspec": {
      "name": "python3",
      "display_name": "Python 3"
    },
    "accelerator": "GPU"
  },
  "cells": [
    {
      "cell_type": "markdown",
      "metadata": {
        "id": "view-in-github",
        "colab_type": "text"
      },
      "source": [
        "<a href=\"https://colab.research.google.com/github/anaveroneze/acmsrc/blob/master/acmsrc.ipynb\" target=\"_parent\"><img src=\"https://colab.research.google.com/assets/colab-badge.svg\" alt=\"Open In Colab\"/></a>"
      ]
    },
    {
      "cell_type": "markdown",
      "metadata": {
        "id": "ZvJCQ7P_L5Wh",
        "colab_type": "text"
      },
      "source": [
        "Download and install the [PGI Community Compiler](https://www.pgroup.com/products/community.htm)"
      ]
    },
    {
      "cell_type": "code",
      "metadata": {
        "id": "InXCMgEh0vpw",
        "colab_type": "code",
        "colab": {}
      },
      "source": [
        "!pwd\n",
        "!ls\n",
        "!wget http://www-usr.inf.ufsm.br/~alsolorzano/pgilinux-2019-194-x86-64.tar.gz\n",
        "!tar -xzvf pgilinux-2019-194-x86-64.tar.gz\n",
        "!./install"
      ],
      "execution_count": 0,
      "outputs": []
    },
    {
      "cell_type": "markdown",
      "metadata": {
        "id": "eJ9v9C7xMAgR",
        "colab_type": "text"
      },
      "source": [
        "Get the source code and the input files\n",
        "\n",
        "Information about the algorithm in: https://github.com/anaveroneze/acmsrc"
      ]
    },
    {
      "cell_type": "code",
      "metadata": {
        "id": "ogorOyEhGhT_",
        "colab_type": "code",
        "colab": {}
      },
      "source": [
        "!git clone https://github.com/anaveroneze/acmsrc.git\n",
        "%cd acmsrc\n",
        "!wget http://www-usr.inf.ufsm.br/~alsolorzano/Virgo"
      ],
      "execution_count": 0,
      "outputs": []
    },
    {
      "cell_type": "markdown",
      "metadata": {
        "id": "gxXfNm69MOxw",
        "colab_type": "text"
      },
      "source": [
        "**Compile and run!**"
      ]
    },
    {
      "cell_type": "code",
      "metadata": {
        "id": "PgH5lLUMROjK",
        "colab_type": "code",
        "colab": {
          "base_uri": "https://localhost:8080/",
          "height": 425
        },
        "outputId": "e94a8e1e-22e9-401c-e071-ab43bc641f9f"
      },
      "source": [
        "! /opt/pgi/linux86-64-llvm/19.4/bin/pgcc main.c fofaccomp.c -o fofomp -ta=nvidia:nvidia -Minfo\n",
        "! ./fofomp Virgo 0.1 10"
      ],
      "execution_count": 41,
      "outputs": [
        {
          "output_type": "stream",
          "text": [
            "main.c:\n",
            "fofaccomp.c:\n",
            "FriendsAcc:\n",
            "     17, Generating acc routine seq\n",
            "         Generating Tesla code\n",
            "     23, FMA (fused multiply-add) instruction(s) generated\n",
            "fof:\n",
            "    149, Generating implicit copy(numgrupos)\n",
            "         Generating copy(x_bloco[:b][:elem],y_bloco[:b][:elem],z_bloco[:b][:elem])\n",
            "         Generating Tesla code\n",
            "        150, #pragma acc loop gang, vector(128) /* blockIdx.x threadIdx.x */\n",
            "             Generating reduction(+:numgrupos)\n",
            "    149, Generating copy(igru[:b][:elem])\n",
            "Iniciando...\n",
            "\n",
            "\n",
            "Tempo Leitura: 100291\n",
            "Grupos encontrados: 46220\n",
            "\n",
            "Pós-processamento...\n",
            "Número de grupos pós processamento: 45969\n",
            "\n",
            "Tempo FoF: 12262687\n",
            "--------------------\n"
          ],
          "name": "stdout"
        }
      ]
    },
    {
      "cell_type": "markdown",
      "metadata": {
        "id": "ZkPirC1vLzEa",
        "colab_type": "text"
      },
      "source": [
        "Extra tips:\n",
        "\n",
        "\n",
        "*   Get information about the devices: GPU and CPU\n",
        "*   Use of nvprof\n",
        "\n"
      ]
    },
    {
      "cell_type": "code",
      "metadata": {
        "id": "5pxZRpzkASeL",
        "colab_type": "code",
        "colab": {}
      },
      "source": [
        "! nvidia-smi\n",
        "! lsb_release -a\n",
        "! nvprof --print-gpu-trace ./fofomp Virgo 0.1 10"
      ],
      "execution_count": 0,
      "outputs": []
    }
  ]
}